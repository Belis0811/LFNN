{
 "cells": [
  {
   "cell_type": "code",
   "execution_count": null,
   "id": "9c8d1925-d59c-4efe-85cd-02df6e9afb32",
   "metadata": {},
   "outputs": [
    {
     "name": "stdout",
     "output_type": "stream",
     "text": [
      "Initial model hash: 299e89b467c34c6ce28cc70ee20b2d8c\n",
      "Loaded 151 out of 152 parameters\n",
      "Loaded model hash: b44732fe4f0ea2b095790e3945bab2a5\n",
      "\n",
      "Epoch: 0\n"
     ]
    },
    {
     "name": "stderr",
     "output_type": "stream",
     "text": [
      "1it [00:20, 20.40s/it]"
     ]
    },
    {
     "name": "stdout",
     "output_type": "stream",
     "text": [
      "Step [0/2848] | Loss: 11.9238\n",
      "Loss1:6.9044\n",
      "Loss2:6.9033\n",
      "Loss3:6.9020\n",
      "Loss4:1.5690\n"
     ]
    },
    {
     "name": "stderr",
     "output_type": "stream",
     "text": [
      "101it [22:36, 13.41s/it]"
     ]
    },
    {
     "name": "stdout",
     "output_type": "stream",
     "text": [
      "Step [100/2848] | Loss: 10.9545\n",
      "Loss1:6.8999\n",
      "Loss2:6.8944\n",
      "Loss3:6.7914\n",
      "Loss4:0.6617\n"
     ]
    },
    {
     "name": "stderr",
     "output_type": "stream",
     "text": [
      "201it [44:58, 13.43s/it]"
     ]
    },
    {
     "name": "stdout",
     "output_type": "stream",
     "text": [
      "Step [200/2848] | Loss: 10.9404\n",
      "Loss1:6.9000\n",
      "Loss2:6.8863\n",
      "Loss3:6.7082\n",
      "Loss4:0.6931\n"
     ]
    },
    {
     "name": "stderr",
     "output_type": "stream",
     "text": [
      "301it [1:07:19, 13.41s/it]"
     ]
    },
    {
     "name": "stdout",
     "output_type": "stream",
     "text": [
      "Step [300/2848] | Loss: 10.7286\n",
      "Loss1:6.8868\n",
      "Loss2:6.8709\n",
      "Loss3:6.6278\n",
      "Loss4:0.5359\n"
     ]
    },
    {
     "name": "stderr",
     "output_type": "stream",
     "text": [
      "401it [1:29:40, 13.40s/it]"
     ]
    },
    {
     "name": "stdout",
     "output_type": "stream",
     "text": [
      "Step [400/2848] | Loss: 10.7403\n",
      "Loss1:6.8804\n",
      "Loss2:6.8515\n",
      "Loss3:6.5648\n",
      "Loss4:0.5920\n"
     ]
    },
    {
     "name": "stderr",
     "output_type": "stream",
     "text": [
      "501it [1:52:01, 13.40s/it]"
     ]
    },
    {
     "name": "stdout",
     "output_type": "stream",
     "text": [
      "Step [500/2848] | Loss: 10.6186\n",
      "Loss1:6.8641\n",
      "Loss2:6.7898\n",
      "Loss3:6.4976\n",
      "Loss4:0.5428\n"
     ]
    },
    {
     "name": "stderr",
     "output_type": "stream",
     "text": [
      "601it [2:14:22, 13.43s/it]"
     ]
    },
    {
     "name": "stdout",
     "output_type": "stream",
     "text": [
      "Step [600/2848] | Loss: 10.4813\n",
      "Loss1:6.8501\n",
      "Loss2:6.7648\n",
      "Loss3:6.4893\n",
      "Loss4:0.4292\n"
     ]
    },
    {
     "name": "stderr",
     "output_type": "stream",
     "text": [
      "701it [2:36:43, 13.43s/it]"
     ]
    },
    {
     "name": "stdout",
     "output_type": "stream",
     "text": [
      "Step [700/2848] | Loss: 10.5826\n",
      "Loss1:6.8338\n",
      "Loss2:6.7618\n",
      "Loss3:6.4500\n",
      "Loss4:0.5598\n"
     ]
    },
    {
     "name": "stderr",
     "output_type": "stream",
     "text": [
      "801it [2:59:04, 13.40s/it]"
     ]
    },
    {
     "name": "stdout",
     "output_type": "stream",
     "text": [
      "Step [800/2848] | Loss: 10.3482\n",
      "Loss1:6.7890\n",
      "Loss2:6.6889\n",
      "Loss3:6.3379\n",
      "Loss4:0.4403\n"
     ]
    },
    {
     "name": "stderr",
     "output_type": "stream",
     "text": [
      "901it [3:21:25, 13.40s/it]"
     ]
    },
    {
     "name": "stdout",
     "output_type": "stream",
     "text": [
      "Step [900/2848] | Loss: 10.3909\n",
      "Loss1:6.7424\n",
      "Loss2:6.6307\n",
      "Loss3:6.2897\n",
      "Loss4:0.5595\n"
     ]
    },
    {
     "name": "stderr",
     "output_type": "stream",
     "text": [
      "1001it [3:43:46, 13.40s/it]"
     ]
    },
    {
     "name": "stdout",
     "output_type": "stream",
     "text": [
      "Step [1000/2848] | Loss: 10.2461\n",
      "Loss1:6.6825\n",
      "Loss2:6.5882\n",
      "Loss3:6.2402\n",
      "Loss4:0.4907\n"
     ]
    },
    {
     "name": "stderr",
     "output_type": "stream",
     "text": [
      "1101it [4:06:05, 13.40s/it]"
     ]
    },
    {
     "name": "stdout",
     "output_type": "stream",
     "text": [
      "Step [1100/2848] | Loss: 10.1711\n",
      "Loss1:6.6640\n",
      "Loss2:6.6069\n",
      "Loss3:6.1359\n",
      "Loss4:0.4677\n"
     ]
    },
    {
     "name": "stderr",
     "output_type": "stream",
     "text": [
      "1201it [4:28:24, 13.41s/it]"
     ]
    },
    {
     "name": "stdout",
     "output_type": "stream",
     "text": [
      "Step [1200/2848] | Loss: 10.1658\n",
      "Loss1:6.5994\n",
      "Loss2:6.5808\n",
      "Loss3:6.2132\n",
      "Loss4:0.4692\n"
     ]
    },
    {
     "name": "stderr",
     "output_type": "stream",
     "text": [
      "1301it [4:50:46, 13.42s/it]"
     ]
    },
    {
     "name": "stdout",
     "output_type": "stream",
     "text": [
      "Step [1300/2848] | Loss: 10.0338\n",
      "Loss1:6.5288\n",
      "Loss2:6.5354\n",
      "Loss3:6.0708\n",
      "Loss4:0.4663\n"
     ]
    },
    {
     "name": "stderr",
     "output_type": "stream",
     "text": [
      "1401it [5:13:06, 13.40s/it]"
     ]
    },
    {
     "name": "stdout",
     "output_type": "stream",
     "text": [
      "Step [1400/2848] | Loss: 9.9754\n",
      "Loss1:6.5017\n",
      "Loss2:6.5007\n",
      "Loss3:6.1130\n",
      "Loss4:0.4177\n"
     ]
    },
    {
     "name": "stderr",
     "output_type": "stream",
     "text": [
      "1501it [5:35:26, 13.40s/it]"
     ]
    },
    {
     "name": "stdout",
     "output_type": "stream",
     "text": [
      "Step [1500/2848] | Loss: 9.8663\n",
      "Loss1:6.4444\n",
      "Loss2:6.4346\n",
      "Loss3:6.0486\n",
      "Loss4:0.4025\n"
     ]
    },
    {
     "name": "stderr",
     "output_type": "stream",
     "text": [
      "1601it [5:57:49, 13.40s/it]"
     ]
    },
    {
     "name": "stdout",
     "output_type": "stream",
     "text": [
      "Step [1600/2848] | Loss: 9.8665\n",
      "Loss1:6.4678\n",
      "Loss2:6.4696\n",
      "Loss3:5.9979\n",
      "Loss4:0.3988\n"
     ]
    },
    {
     "name": "stderr",
     "output_type": "stream",
     "text": [
      "1701it [6:20:09, 13.40s/it]"
     ]
    },
    {
     "name": "stdout",
     "output_type": "stream",
     "text": [
      "Step [1700/2848] | Loss: 9.7055\n",
      "Loss1:6.3624\n",
      "Loss2:6.3757\n",
      "Loss3:5.9126\n",
      "Loss4:0.3802\n"
     ]
    },
    {
     "name": "stderr",
     "output_type": "stream",
     "text": [
      "1801it [6:42:31, 13.40s/it]"
     ]
    },
    {
     "name": "stdout",
     "output_type": "stream",
     "text": [
      "Step [1800/2848] | Loss: 9.7294\n",
      "Loss1:6.3317\n",
      "Loss2:6.3605\n",
      "Loss3:5.9076\n",
      "Loss4:0.4295\n"
     ]
    },
    {
     "name": "stderr",
     "output_type": "stream",
     "text": [
      "1901it [7:04:50, 13.40s/it]"
     ]
    },
    {
     "name": "stdout",
     "output_type": "stream",
     "text": [
      "Step [1900/2848] | Loss: 9.7058\n",
      "Loss1:6.3445\n",
      "Loss2:6.3802\n",
      "Loss3:5.9341\n",
      "Loss4:0.3763\n"
     ]
    },
    {
     "name": "stderr",
     "output_type": "stream",
     "text": [
      "2001it [7:27:10, 13.40s/it]"
     ]
    },
    {
     "name": "stdout",
     "output_type": "stream",
     "text": [
      "Step [2000/2848] | Loss: 9.6905\n",
      "Loss1:6.3244\n",
      "Loss2:6.3131\n",
      "Loss3:5.9611\n",
      "Loss4:0.3911\n"
     ]
    },
    {
     "name": "stderr",
     "output_type": "stream",
     "text": [
      "2101it [7:49:31, 13.40s/it]"
     ]
    },
    {
     "name": "stdout",
     "output_type": "stream",
     "text": [
      "Step [2100/2848] | Loss: 9.5418\n",
      "Loss1:6.2443\n",
      "Loss2:6.2489\n",
      "Loss3:5.8821\n",
      "Loss4:0.3542\n"
     ]
    },
    {
     "name": "stderr",
     "output_type": "stream",
     "text": [
      "2201it [8:11:52, 13.43s/it]"
     ]
    },
    {
     "name": "stdout",
     "output_type": "stream",
     "text": [
      "Step [2200/2848] | Loss: 9.5169\n",
      "Loss1:6.1998\n",
      "Loss2:6.1885\n",
      "Loss3:5.8114\n",
      "Loss4:0.4171\n"
     ]
    },
    {
     "name": "stderr",
     "output_type": "stream",
     "text": [
      "2301it [8:34:13, 13.40s/it]"
     ]
    },
    {
     "name": "stdout",
     "output_type": "stream",
     "text": [
      "Step [2300/2848] | Loss: 9.4410\n",
      "Loss1:6.1402\n",
      "Loss2:6.1748\n",
      "Loss3:5.8063\n",
      "Loss4:0.3803\n"
     ]
    },
    {
     "name": "stderr",
     "output_type": "stream",
     "text": [
      "2401it [8:56:32, 13.40s/it]"
     ]
    },
    {
     "name": "stdout",
     "output_type": "stream",
     "text": [
      "Step [2400/2848] | Loss: 9.5981\n",
      "Loss1:6.2001\n",
      "Loss2:6.2215\n",
      "Loss3:5.9378\n",
      "Loss4:0.4184\n"
     ]
    },
    {
     "name": "stderr",
     "output_type": "stream",
     "text": [
      "2501it [9:18:53, 13.40s/it]"
     ]
    },
    {
     "name": "stdout",
     "output_type": "stream",
     "text": [
      "Step [2500/2848] | Loss: 9.5083\n",
      "Loss1:6.1444\n",
      "Loss2:6.1157\n",
      "Loss3:5.8535\n",
      "Loss4:0.4514\n"
     ]
    },
    {
     "name": "stderr",
     "output_type": "stream",
     "text": [
      "2601it [9:41:12, 13.39s/it]"
     ]
    },
    {
     "name": "stdout",
     "output_type": "stream",
     "text": [
      "Step [2600/2848] | Loss: 9.4927\n",
      "Loss1:6.1195\n",
      "Loss2:6.1224\n",
      "Loss3:5.7495\n",
      "Loss4:0.4969\n"
     ]
    },
    {
     "name": "stderr",
     "output_type": "stream",
     "text": [
      "2701it [10:03:31, 13.40s/it]"
     ]
    },
    {
     "name": "stdout",
     "output_type": "stream",
     "text": [
      "Step [2700/2848] | Loss: 9.1964\n",
      "Loss1:6.0195\n",
      "Loss2:5.9948\n",
      "Loss3:5.7043\n",
      "Loss4:0.3371\n"
     ]
    },
    {
     "name": "stderr",
     "output_type": "stream",
     "text": [
      "2801it [10:25:52, 13.44s/it]"
     ]
    },
    {
     "name": "stdout",
     "output_type": "stream",
     "text": [
      "Step [2800/2848] | Loss: 9.4525\n",
      "Loss1:6.1054\n",
      "Loss2:6.0881\n",
      "Loss3:5.8568\n",
      "Loss4:0.4274\n"
     ]
    },
    {
     "name": "stderr",
     "output_type": "stream",
     "text": [
      "2848it [10:36:09, 13.40s/it]\n"
     ]
    },
    {
     "name": "stdout",
     "output_type": "stream",
     "text": [
      "Train Loss: 0.470 | Acc: 86.347% (1106251/1281167)\n"
     ]
    },
    {
     "name": "stderr",
     "output_type": "stream",
     "text": [
      "100%|██████████| 112/112 [12:45<00:00,  6.83s/it]\n"
     ]
    },
    {
     "name": "stdout",
     "output_type": "stream",
     "text": [
      "Test Loss: 0.812 | Top-1 Acc: 78.710% | Top-5 Acc: 94.786% (39355/50000)\n",
      "\n",
      "Epoch: 1\n"
     ]
    },
    {
     "name": "stderr",
     "output_type": "stream",
     "text": [
      "1it [00:17, 17.98s/it]"
     ]
    },
    {
     "name": "stdout",
     "output_type": "stream",
     "text": [
      "Step [0/2848] | Loss: 9.2329\n",
      "Loss1:6.0200\n",
      "Loss2:5.9800\n",
      "Loss3:5.7789\n",
      "Loss4:0.3435\n"
     ]
    },
    {
     "name": "stderr",
     "output_type": "stream",
     "text": [
      "101it [22:38, 13.43s/it]"
     ]
    },
    {
     "name": "stdout",
     "output_type": "stream",
     "text": [
      "Step [100/2848] | Loss: 9.1841\n",
      "Loss1:6.0295\n",
      "Loss2:5.9882\n",
      "Loss3:5.7338\n",
      "Loss4:0.3083\n"
     ]
    },
    {
     "name": "stderr",
     "output_type": "stream",
     "text": [
      "201it [44:59, 13.40s/it]"
     ]
    },
    {
     "name": "stdout",
     "output_type": "stream",
     "text": [
      "Step [200/2848] | Loss: 9.3273\n",
      "Loss1:6.0765\n",
      "Loss2:6.0587\n",
      "Loss3:5.7849\n",
      "Loss4:0.3672\n"
     ]
    },
    {
     "name": "stderr",
     "output_type": "stream",
     "text": [
      "301it [1:07:21, 13.44s/it]"
     ]
    },
    {
     "name": "stdout",
     "output_type": "stream",
     "text": [
      "Step [300/2848] | Loss: 9.0367\n",
      "Loss1:5.8914\n",
      "Loss2:5.9042\n",
      "Loss3:5.6450\n",
      "Loss4:0.3164\n"
     ]
    },
    {
     "name": "stderr",
     "output_type": "stream",
     "text": [
      "401it [1:29:42, 13.41s/it]"
     ]
    },
    {
     "name": "stdout",
     "output_type": "stream",
     "text": [
      "Step [400/2848] | Loss: 8.9938\n",
      "Loss1:5.9107\n",
      "Loss2:5.8949\n",
      "Loss3:5.6439\n",
      "Loss4:0.2690\n"
     ]
    },
    {
     "name": "stderr",
     "output_type": "stream",
     "text": [
      "501it [1:52:03, 13.40s/it]"
     ]
    },
    {
     "name": "stdout",
     "output_type": "stream",
     "text": [
      "Step [500/2848] | Loss: 8.9272\n",
      "Loss1:5.8282\n",
      "Loss2:5.8191\n",
      "Loss3:5.5674\n",
      "Loss4:0.3199\n"
     ]
    },
    {
     "name": "stderr",
     "output_type": "stream",
     "text": [
      "601it [2:14:23, 13.41s/it]"
     ]
    },
    {
     "name": "stdout",
     "output_type": "stream",
     "text": [
      "Step [600/2848] | Loss: 9.1336\n",
      "Loss1:5.9885\n",
      "Loss2:5.9604\n",
      "Loss3:5.7969\n",
      "Loss4:0.2606\n"
     ]
    },
    {
     "name": "stderr",
     "output_type": "stream",
     "text": [
      "701it [2:36:45, 13.40s/it]"
     ]
    },
    {
     "name": "stdout",
     "output_type": "stream",
     "text": [
      "Step [700/2848] | Loss: 9.1590\n",
      "Loss1:5.9223\n",
      "Loss2:5.9180\n",
      "Loss3:5.7551\n",
      "Loss4:0.3613\n"
     ]
    },
    {
     "name": "stderr",
     "output_type": "stream",
     "text": [
      "801it [2:59:05, 13.41s/it]"
     ]
    },
    {
     "name": "stdout",
     "output_type": "stream",
     "text": [
      "Step [800/2848] | Loss: 8.9905\n",
      "Loss1:5.8699\n",
      "Loss2:5.8731\n",
      "Loss3:5.6440\n",
      "Loss4:0.2970\n"
     ]
    },
    {
     "name": "stderr",
     "output_type": "stream",
     "text": [
      "901it [3:21:26, 13.42s/it]"
     ]
    },
    {
     "name": "stdout",
     "output_type": "stream",
     "text": [
      "Step [900/2848] | Loss: 8.9468\n",
      "Loss1:5.8270\n",
      "Loss2:5.8144\n",
      "Loss3:5.5872\n",
      "Loss4:0.3325\n"
     ]
    },
    {
     "name": "stderr",
     "output_type": "stream",
     "text": [
      "1001it [3:43:46, 13.40s/it]"
     ]
    },
    {
     "name": "stdout",
     "output_type": "stream",
     "text": [
      "Step [1000/2848] | Loss: 9.0857\n",
      "Loss1:5.9222\n",
      "Loss2:5.9120\n",
      "Loss3:5.7267\n",
      "Loss4:0.3052\n"
     ]
    },
    {
     "name": "stderr",
     "output_type": "stream",
     "text": [
      "1101it [4:06:07, 13.41s/it]"
     ]
    },
    {
     "name": "stdout",
     "output_type": "stream",
     "text": [
      "Step [1100/2848] | Loss: 8.9425\n",
      "Loss1:5.8745\n",
      "Loss2:5.8574\n",
      "Loss3:5.6136\n",
      "Loss4:0.2698\n"
     ]
    },
    {
     "name": "stderr",
     "output_type": "stream",
     "text": [
      "1201it [4:28:28, 13.48s/it]"
     ]
    },
    {
     "name": "stdout",
     "output_type": "stream",
     "text": [
      "Step [1200/2848] | Loss: 8.7615\n",
      "Loss1:5.7205\n",
      "Loss2:5.7041\n",
      "Loss3:5.5284\n",
      "Loss4:0.2850\n"
     ]
    },
    {
     "name": "stderr",
     "output_type": "stream",
     "text": [
      "1301it [4:50:49, 13.45s/it]"
     ]
    },
    {
     "name": "stdout",
     "output_type": "stream",
     "text": [
      "Step [1300/2848] | Loss: 8.9160\n",
      "Loss1:5.8414\n",
      "Loss2:5.8009\n",
      "Loss3:5.6450\n",
      "Loss4:0.2723\n"
     ]
    },
    {
     "name": "stderr",
     "output_type": "stream",
     "text": [
      "1401it [5:13:10, 13.40s/it]"
     ]
    },
    {
     "name": "stdout",
     "output_type": "stream",
     "text": [
      "Step [1400/2848] | Loss: 8.8690\n",
      "Loss1:5.7900\n",
      "Loss2:5.7857\n",
      "Loss3:5.6126\n",
      "Loss4:0.2748\n"
     ]
    },
    {
     "name": "stderr",
     "output_type": "stream",
     "text": [
      "1501it [5:35:32, 13.41s/it]"
     ]
    },
    {
     "name": "stdout",
     "output_type": "stream",
     "text": [
      "Step [1500/2848] | Loss: 9.1066\n",
      "Loss1:5.8868\n",
      "Loss2:5.8936\n",
      "Loss3:5.6694\n",
      "Loss4:0.3817\n"
     ]
    },
    {
     "name": "stderr",
     "output_type": "stream",
     "text": [
      "1601it [5:57:54, 13.40s/it]"
     ]
    },
    {
     "name": "stdout",
     "output_type": "stream",
     "text": [
      "Step [1600/2848] | Loss: 8.9197\n",
      "Loss1:5.7836\n",
      "Loss2:5.8016\n",
      "Loss3:5.5775\n",
      "Loss4:0.3383\n"
     ]
    },
    {
     "name": "stderr",
     "output_type": "stream",
     "text": [
      "1701it [6:20:15, 13.40s/it]"
     ]
    },
    {
     "name": "stdout",
     "output_type": "stream",
     "text": [
      "Step [1700/2848] | Loss: 8.9429\n",
      "Loss1:5.7966\n",
      "Loss2:5.8182\n",
      "Loss3:5.6474\n",
      "Loss4:0.3118\n"
     ]
    },
    {
     "name": "stderr",
     "output_type": "stream",
     "text": [
      "1801it [6:42:37, 13.40s/it]"
     ]
    },
    {
     "name": "stdout",
     "output_type": "stream",
     "text": [
      "Step [1800/2848] | Loss: 8.6843\n",
      "Loss1:5.6502\n",
      "Loss2:5.6182\n",
      "Loss3:5.4213\n",
      "Loss4:0.3394\n"
     ]
    },
    {
     "name": "stderr",
     "output_type": "stream",
     "text": [
      "1901it [7:04:58, 13.40s/it]"
     ]
    },
    {
     "name": "stdout",
     "output_type": "stream",
     "text": [
      "Step [1900/2848] | Loss: 8.7556\n",
      "Loss1:5.6898\n",
      "Loss2:5.7023\n",
      "Loss3:5.5407\n",
      "Loss4:0.2893\n"
     ]
    },
    {
     "name": "stderr",
     "output_type": "stream",
     "text": [
      "2001it [7:27:18, 13.40s/it]"
     ]
    },
    {
     "name": "stdout",
     "output_type": "stream",
     "text": [
      "Step [2000/2848] | Loss: 9.0694\n",
      "Loss1:5.8032\n",
      "Loss2:5.7997\n",
      "Loss3:5.6533\n",
      "Loss4:0.4413\n"
     ]
    },
    {
     "name": "stderr",
     "output_type": "stream",
     "text": [
      "2101it [7:49:40, 13.40s/it]"
     ]
    },
    {
     "name": "stdout",
     "output_type": "stream",
     "text": [
      "Step [2100/2848] | Loss: 8.6789\n",
      "Loss1:5.6101\n",
      "Loss2:5.6265\n",
      "Loss3:5.4579\n",
      "Loss4:0.3316\n"
     ]
    },
    {
     "name": "stderr",
     "output_type": "stream",
     "text": [
      "2201it [8:12:02, 13.43s/it]"
     ]
    },
    {
     "name": "stdout",
     "output_type": "stream",
     "text": [
      "Step [2200/2848] | Loss: 8.6266\n",
      "Loss1:5.5879\n",
      "Loss2:5.5701\n",
      "Loss3:5.4286\n",
      "Loss4:0.3333\n"
     ]
    },
    {
     "name": "stderr",
     "output_type": "stream",
     "text": [
      "2301it [8:34:21, 13.40s/it]"
     ]
    },
    {
     "name": "stdout",
     "output_type": "stream",
     "text": [
      "Step [2300/2848] | Loss: 8.7869\n",
      "Loss1:5.7211\n",
      "Loss2:5.6909\n",
      "Loss3:5.6017\n",
      "Loss4:0.2801\n"
     ]
    },
    {
     "name": "stderr",
     "output_type": "stream",
     "text": [
      "2401it [8:56:43, 13.40s/it]"
     ]
    },
    {
     "name": "stdout",
     "output_type": "stream",
     "text": [
      "Step [2400/2848] | Loss: 8.8083\n",
      "Loss1:5.7389\n",
      "Loss2:5.6953\n",
      "Loss3:5.5794\n",
      "Loss4:0.3016\n"
     ]
    },
    {
     "name": "stderr",
     "output_type": "stream",
     "text": [
      "2501it [9:19:03, 13.40s/it]"
     ]
    },
    {
     "name": "stdout",
     "output_type": "stream",
     "text": [
      "Step [2500/2848] | Loss: 8.7354\n",
      "Loss1:5.6942\n",
      "Loss2:5.6853\n",
      "Loss3:5.5208\n",
      "Loss4:0.2852\n"
     ]
    },
    {
     "name": "stderr",
     "output_type": "stream",
     "text": [
      "2601it [9:41:23, 13.40s/it]"
     ]
    },
    {
     "name": "stdout",
     "output_type": "stream",
     "text": [
      "Step [2600/2848] | Loss: 8.6234\n",
      "Loss1:5.6355\n",
      "Loss2:5.5973\n",
      "Loss3:5.4468\n",
      "Loss4:0.2837\n"
     ]
    },
    {
     "name": "stderr",
     "output_type": "stream",
     "text": [
      "2701it [10:03:47, 13.45s/it]"
     ]
    },
    {
     "name": "stdout",
     "output_type": "stream",
     "text": [
      "Step [2700/2848] | Loss: 8.8029\n",
      "Loss1:5.7053\n",
      "Loss2:5.6946\n",
      "Loss3:5.5297\n",
      "Loss4:0.3381\n"
     ]
    },
    {
     "name": "stderr",
     "output_type": "stream",
     "text": [
      "2801it [10:26:08, 13.40s/it]"
     ]
    },
    {
     "name": "stdout",
     "output_type": "stream",
     "text": [
      "Step [2800/2848] | Loss: 8.7529\n",
      "Loss1:5.6549\n",
      "Loss2:5.6101\n",
      "Loss3:5.5048\n",
      "Loss4:0.3680\n"
     ]
    },
    {
     "name": "stderr",
     "output_type": "stream",
     "text": [
      "2848it [10:36:26, 13.41s/it]\n"
     ]
    },
    {
     "name": "stdout",
     "output_type": "stream",
     "text": [
      "Train Loss: 0.315 | Acc: 90.704% (1162068/1281167)\n"
     ]
    },
    {
     "name": "stderr",
     "output_type": "stream",
     "text": [
      "100%|██████████| 112/112 [12:38<00:00,  6.77s/it]"
     ]
    },
    {
     "name": "stdout",
     "output_type": "stream",
     "text": [
      "Test Loss: 0.814 | Top-1 Acc: 79.086% | Top-5 Acc: 94.900% (39543/50000)\n",
      "\n",
      "Epoch: 2\n"
     ]
    },
    {
     "name": "stderr",
     "output_type": "stream",
     "text": [
      "\n",
      "1it [00:18, 18.45s/it]"
     ]
    },
    {
     "name": "stdout",
     "output_type": "stream",
     "text": [
      "Step [0/2848] | Loss: 8.6059\n",
      "Loss1:5.6612\n",
      "Loss2:5.6390\n",
      "Loss3:5.5059\n",
      "Loss4:0.2028\n"
     ]
    },
    {
     "name": "stderr",
     "output_type": "stream",
     "text": [
      "101it [22:39, 13.40s/it]"
     ]
    },
    {
     "name": "stdout",
     "output_type": "stream",
     "text": [
      "Step [100/2848] | Loss: 8.5396\n",
      "Loss1:5.6071\n",
      "Loss2:5.5857\n",
      "Loss3:5.4370\n",
      "Loss4:0.2247\n"
     ]
    },
    {
     "name": "stderr",
     "output_type": "stream",
     "text": [
      "201it [44:59, 13.42s/it]"
     ]
    },
    {
     "name": "stdout",
     "output_type": "stream",
     "text": [
      "Step [200/2848] | Loss: 8.5904\n",
      "Loss1:5.6222\n",
      "Loss2:5.6420\n",
      "Loss3:5.4537\n",
      "Loss4:0.2314\n"
     ]
    },
    {
     "name": "stderr",
     "output_type": "stream",
     "text": [
      "301it [1:07:21, 13.41s/it]"
     ]
    },
    {
     "name": "stdout",
     "output_type": "stream",
     "text": [
      "Step [300/2848] | Loss: 8.5610\n",
      "Loss1:5.6035\n",
      "Loss2:5.5813\n",
      "Loss3:5.4541\n",
      "Loss4:0.2416\n"
     ]
    },
    {
     "name": "stderr",
     "output_type": "stream",
     "text": [
      "401it [1:29:40, 13.41s/it]"
     ]
    },
    {
     "name": "stdout",
     "output_type": "stream",
     "text": [
      "Step [400/2848] | Loss: 8.5991\n",
      "Loss1:5.6403\n",
      "Loss2:5.6515\n",
      "Loss3:5.4583\n",
      "Loss4:0.2240\n"
     ]
    },
    {
     "name": "stderr",
     "output_type": "stream",
     "text": [
      "501it [1:52:01, 13.40s/it]"
     ]
    },
    {
     "name": "stdout",
     "output_type": "stream",
     "text": [
      "Step [500/2848] | Loss: 8.5309\n",
      "Loss1:5.6269\n",
      "Loss2:5.5751\n",
      "Loss3:5.4454\n",
      "Loss4:0.2072\n"
     ]
    },
    {
     "name": "stderr",
     "output_type": "stream",
     "text": [
      "601it [2:14:21, 13.40s/it]"
     ]
    },
    {
     "name": "stdout",
     "output_type": "stream",
     "text": [
      "Step [600/2848] | Loss: 8.5137\n",
      "Loss1:5.6026\n",
      "Loss2:5.5643\n",
      "Loss3:5.4354\n",
      "Loss4:0.2126\n"
     ]
    },
    {
     "name": "stderr",
     "output_type": "stream",
     "text": [
      "701it [2:36:38, 13.40s/it]"
     ]
    },
    {
     "name": "stdout",
     "output_type": "stream",
     "text": [
      "Step [700/2848] | Loss: 8.4877\n",
      "Loss1:5.5627\n",
      "Loss2:5.5328\n",
      "Loss3:5.3805\n",
      "Loss4:0.2497\n"
     ]
    },
    {
     "name": "stderr",
     "output_type": "stream",
     "text": [
      "801it [2:58:59, 13.41s/it]"
     ]
    },
    {
     "name": "stdout",
     "output_type": "stream",
     "text": [
      "Step [800/2848] | Loss: 8.5449\n",
      "Loss1:5.5729\n",
      "Loss2:5.5266\n",
      "Loss3:5.3953\n",
      "Loss4:0.2976\n"
     ]
    },
    {
     "name": "stderr",
     "output_type": "stream",
     "text": [
      "901it [3:21:20, 13.40s/it]"
     ]
    },
    {
     "name": "stdout",
     "output_type": "stream",
     "text": [
      "Step [900/2848] | Loss: 8.3826\n",
      "Loss1:5.4606\n",
      "Loss2:5.4615\n",
      "Loss3:5.3371\n",
      "Loss4:0.2530\n"
     ]
    },
    {
     "name": "stderr",
     "output_type": "stream",
     "text": [
      "1001it [3:43:39, 13.40s/it]"
     ]
    },
    {
     "name": "stdout",
     "output_type": "stream",
     "text": [
      "Step [1000/2848] | Loss: 8.3258\n",
      "Loss1:5.4602\n",
      "Loss2:5.4165\n",
      "Loss3:5.3195\n",
      "Loss4:0.2277\n"
     ]
    },
    {
     "name": "stderr",
     "output_type": "stream",
     "text": [
      "1101it [4:05:58, 13.45s/it]"
     ]
    },
    {
     "name": "stdout",
     "output_type": "stream",
     "text": [
      "Step [1100/2848] | Loss: 8.6129\n",
      "Loss1:5.6140\n",
      "Loss2:5.6037\n",
      "Loss3:5.4915\n",
      "Loss4:0.2583\n"
     ]
    },
    {
     "name": "stderr",
     "output_type": "stream",
     "text": [
      "1201it [4:28:19, 13.41s/it]"
     ]
    },
    {
     "name": "stdout",
     "output_type": "stream",
     "text": [
      "Step [1200/2848] | Loss: 8.4030\n",
      "Loss1:5.5062\n",
      "Loss2:5.4687\n",
      "Loss3:5.3675\n",
      "Loss4:0.2319\n"
     ]
    },
    {
     "name": "stderr",
     "output_type": "stream",
     "text": [
      "1301it [4:50:39, 13.38s/it]"
     ]
    },
    {
     "name": "stdout",
     "output_type": "stream",
     "text": [
      "Step [1300/2848] | Loss: 8.5591\n",
      "Loss1:5.6090\n",
      "Loss2:5.5865\n",
      "Loss3:5.4825\n",
      "Loss4:0.2201\n"
     ]
    },
    {
     "name": "stderr",
     "output_type": "stream",
     "text": [
      "1401it [5:13:01, 13.40s/it]"
     ]
    },
    {
     "name": "stdout",
     "output_type": "stream",
     "text": [
      "Step [1400/2848] | Loss: 8.6184\n",
      "Loss1:5.6099\n",
      "Loss2:5.5718\n",
      "Loss3:5.4404\n",
      "Loss4:0.3073\n"
     ]
    },
    {
     "name": "stderr",
     "output_type": "stream",
     "text": [
      "1501it [5:35:21, 13.40s/it]"
     ]
    },
    {
     "name": "stdout",
     "output_type": "stream",
     "text": [
      "Step [1500/2848] | Loss: 8.3143\n",
      "Loss1:5.4875\n",
      "Loss2:5.4123\n",
      "Loss3:5.3001\n",
      "Loss4:0.2144\n"
     ]
    },
    {
     "name": "stderr",
     "output_type": "stream",
     "text": [
      "1601it [5:57:40, 13.37s/it]"
     ]
    },
    {
     "name": "stdout",
     "output_type": "stream",
     "text": [
      "Step [1600/2848] | Loss: 8.4927\n",
      "Loss1:5.5928\n",
      "Loss2:5.5202\n",
      "Loss3:5.4178\n",
      "Loss4:0.2273\n"
     ]
    },
    {
     "name": "stderr",
     "output_type": "stream",
     "text": [
      "1701it [6:19:59, 13.40s/it]"
     ]
    },
    {
     "name": "stdout",
     "output_type": "stream",
     "text": [
      "Step [1700/2848] | Loss: 8.6165\n",
      "Loss1:5.6325\n",
      "Loss2:5.6050\n",
      "Loss3:5.4976\n",
      "Loss4:0.2490\n"
     ]
    },
    {
     "name": "stderr",
     "output_type": "stream",
     "text": [
      "1801it [6:42:21, 13.40s/it]"
     ]
    },
    {
     "name": "stdout",
     "output_type": "stream",
     "text": [
      "Step [1800/2848] | Loss: 8.2916\n",
      "Loss1:5.4460\n",
      "Loss2:5.4203\n",
      "Loss3:5.3157\n",
      "Loss4:0.2007\n"
     ]
    },
    {
     "name": "stderr",
     "output_type": "stream",
     "text": [
      "1901it [7:04:43, 13.41s/it]"
     ]
    },
    {
     "name": "stdout",
     "output_type": "stream",
     "text": [
      "Step [1900/2848] | Loss: 8.3372\n",
      "Loss1:5.4212\n",
      "Loss2:5.4142\n",
      "Loss3:5.3135\n",
      "Loss4:0.2627\n"
     ]
    },
    {
     "name": "stderr",
     "output_type": "stream",
     "text": [
      "2001it [7:27:03, 13.40s/it]"
     ]
    },
    {
     "name": "stdout",
     "output_type": "stream",
     "text": [
      "Step [2000/2848] | Loss: 8.4984\n",
      "Loss1:5.5698\n",
      "Loss2:5.5495\n",
      "Loss3:5.4259\n",
      "Loss4:0.2258\n"
     ]
    },
    {
     "name": "stderr",
     "output_type": "stream",
     "text": [
      "2101it [7:49:24, 13.40s/it]"
     ]
    },
    {
     "name": "stdout",
     "output_type": "stream",
     "text": [
      "Step [2100/2848] | Loss: 8.3045\n",
      "Loss1:5.4206\n",
      "Loss2:5.4107\n",
      "Loss3:5.3147\n",
      "Loss4:0.2315\n"
     ]
    },
    {
     "name": "stderr",
     "output_type": "stream",
     "text": [
      "2201it [8:11:45, 13.40s/it]"
     ]
    },
    {
     "name": "stdout",
     "output_type": "stream",
     "text": [
      "Step [2200/2848] | Loss: 8.5942\n",
      "Loss1:5.5975\n",
      "Loss2:5.5510\n",
      "Loss3:5.5066\n",
      "Loss4:0.2667\n"
     ]
    },
    {
     "name": "stderr",
     "output_type": "stream",
     "text": [
      "2301it [8:34:05, 13.40s/it]"
     ]
    },
    {
     "name": "stdout",
     "output_type": "stream",
     "text": [
      "Step [2300/2848] | Loss: 8.3398\n",
      "Loss1:5.4160\n",
      "Loss2:5.4397\n",
      "Loss3:5.3191\n",
      "Loss4:0.2524\n"
     ]
    },
    {
     "name": "stderr",
     "output_type": "stream",
     "text": [
      "2401it [8:56:26, 13.40s/it]"
     ]
    },
    {
     "name": "stdout",
     "output_type": "stream",
     "text": [
      "Step [2400/2848] | Loss: 8.3801\n",
      "Loss1:5.4196\n",
      "Loss2:5.4639\n",
      "Loss3:5.3424\n",
      "Loss4:0.2672\n"
     ]
    },
    {
     "name": "stderr",
     "output_type": "stream",
     "text": [
      "2501it [9:18:48, 13.42s/it]"
     ]
    },
    {
     "name": "stdout",
     "output_type": "stream",
     "text": [
      "Step [2500/2848] | Loss: 8.2925\n",
      "Loss1:5.4472\n",
      "Loss2:5.3977\n",
      "Loss3:5.2880\n",
      "Loss4:0.2260\n"
     ]
    },
    {
     "name": "stderr",
     "output_type": "stream",
     "text": [
      "2601it [9:41:11, 13.40s/it]"
     ]
    },
    {
     "name": "stdout",
     "output_type": "stream",
     "text": [
      "Step [2600/2848] | Loss: 8.4643\n",
      "Loss1:5.4914\n",
      "Loss2:5.5095\n",
      "Loss3:5.3822\n",
      "Loss4:0.2727\n"
     ]
    },
    {
     "name": "stderr",
     "output_type": "stream",
     "text": [
      "2701it [10:03:32, 13.40s/it]"
     ]
    },
    {
     "name": "stdout",
     "output_type": "stream",
     "text": [
      "Step [2700/2848] | Loss: 8.5075\n",
      "Loss1:5.5384\n",
      "Loss2:5.4939\n",
      "Loss3:5.4453\n",
      "Loss4:0.2687\n"
     ]
    },
    {
     "name": "stderr",
     "output_type": "stream",
     "text": [
      "2801it [10:25:54, 13.40s/it]"
     ]
    },
    {
     "name": "stdout",
     "output_type": "stream",
     "text": [
      "Step [2800/2848] | Loss: 8.3968\n",
      "Loss1:5.5026\n",
      "Loss2:5.4724\n",
      "Loss3:5.3388\n",
      "Loss4:0.2399\n"
     ]
    },
    {
     "name": "stderr",
     "output_type": "stream",
     "text": [
      "2848it [10:36:12, 13.40s/it]\n"
     ]
    },
    {
     "name": "stdout",
     "output_type": "stream",
     "text": [
      "Train Loss: 0.240 | Acc: 92.927% (1190554/1281167)\n"
     ]
    },
    {
     "name": "stderr",
     "output_type": "stream",
     "text": [
      "100%|██████████| 112/112 [12:42<00:00,  6.81s/it]"
     ]
    },
    {
     "name": "stdout",
     "output_type": "stream",
     "text": [
      "Test Loss: 0.823 | Top-1 Acc: 79.080% | Top-5 Acc: 94.894% (39540/50000)\n",
      "\n",
      "Epoch: 3\n"
     ]
    },
    {
     "name": "stderr",
     "output_type": "stream",
     "text": [
      "\n",
      "1it [00:18, 18.21s/it]"
     ]
    },
    {
     "name": "stdout",
     "output_type": "stream",
     "text": [
      "Step [0/2848] | Loss: 7.9808\n",
      "Loss1:5.2469\n",
      "Loss2:5.2280\n",
      "Loss3:5.1431\n",
      "Loss4:0.1718\n"
     ]
    },
    {
     "name": "stderr",
     "output_type": "stream",
     "text": [
      "101it [22:40, 13.40s/it]"
     ]
    },
    {
     "name": "stdout",
     "output_type": "stream",
     "text": [
      "Step [100/2848] | Loss: 8.4083\n",
      "Loss1:5.5561\n",
      "Loss2:5.5265\n",
      "Loss3:5.4290\n",
      "Loss4:0.1525\n"
     ]
    },
    {
     "name": "stderr",
     "output_type": "stream",
     "text": [
      "201it [45:00, 13.40s/it]"
     ]
    },
    {
     "name": "stdout",
     "output_type": "stream",
     "text": [
      "Step [200/2848] | Loss: 8.4433\n",
      "Loss1:5.5281\n",
      "Loss2:5.5420\n",
      "Loss3:5.4337\n",
      "Loss4:0.1914\n"
     ]
    },
    {
     "name": "stderr",
     "output_type": "stream",
     "text": [
      "301it [1:07:21, 13.40s/it]"
     ]
    },
    {
     "name": "stdout",
     "output_type": "stream",
     "text": [
      "Step [300/2848] | Loss: 8.4145\n",
      "Loss1:5.5299\n",
      "Loss2:5.5034\n",
      "Loss3:5.4210\n",
      "Loss4:0.1873\n"
     ]
    },
    {
     "name": "stderr",
     "output_type": "stream",
     "text": [
      "401it [1:29:41, 13.40s/it]"
     ]
    },
    {
     "name": "stdout",
     "output_type": "stream",
     "text": [
      "Step [400/2848] | Loss: 8.3935\n",
      "Loss1:5.5351\n",
      "Loss2:5.4717\n",
      "Loss3:5.4202\n",
      "Loss4:0.1800\n"
     ]
    },
    {
     "name": "stderr",
     "output_type": "stream",
     "text": [
      "501it [1:52:02, 13.40s/it]"
     ]
    },
    {
     "name": "stdout",
     "output_type": "stream",
     "text": [
      "Step [500/2848] | Loss: 8.3789\n",
      "Loss1:5.5463\n",
      "Loss2:5.4858\n",
      "Loss3:5.3668\n",
      "Loss4:0.1794\n"
     ]
    },
    {
     "name": "stderr",
     "output_type": "stream",
     "text": [
      "601it [2:14:23, 13.43s/it]"
     ]
    },
    {
     "name": "stdout",
     "output_type": "stream",
     "text": [
      "Step [600/2848] | Loss: 8.3081\n",
      "Loss1:5.4566\n",
      "Loss2:5.4241\n",
      "Loss3:5.3103\n",
      "Loss4:0.2126\n"
     ]
    },
    {
     "name": "stderr",
     "output_type": "stream",
     "text": [
      "701it [2:36:46, 13.40s/it]"
     ]
    },
    {
     "name": "stdout",
     "output_type": "stream",
     "text": [
      "Step [700/2848] | Loss: 8.2538\n",
      "Loss1:5.4605\n",
      "Loss2:5.4424\n",
      "Loss3:5.2897\n",
      "Loss4:0.1575\n"
     ]
    },
    {
     "name": "stderr",
     "output_type": "stream",
     "text": [
      "801it [2:59:07, 13.41s/it]"
     ]
    },
    {
     "name": "stdout",
     "output_type": "stream",
     "text": [
      "Step [800/2848] | Loss: 8.4675\n",
      "Loss1:5.5566\n",
      "Loss2:5.5153\n",
      "Loss3:5.4242\n",
      "Loss4:0.2195\n"
     ]
    },
    {
     "name": "stderr",
     "output_type": "stream",
     "text": [
      "901it [3:21:28, 13.44s/it]"
     ]
    },
    {
     "name": "stdout",
     "output_type": "stream",
     "text": [
      "Step [900/2848] | Loss: 8.3915\n",
      "Loss1:5.5385\n",
      "Loss2:5.4723\n",
      "Loss3:5.3736\n",
      "Loss4:0.1994\n"
     ]
    },
    {
     "name": "stderr",
     "output_type": "stream",
     "text": [
      "1001it [3:43:49, 13.40s/it]"
     ]
    },
    {
     "name": "stdout",
     "output_type": "stream",
     "text": [
      "Step [1000/2848] | Loss: 8.1425\n",
      "Loss1:5.3373\n",
      "Loss2:5.3470\n",
      "Loss3:5.2034\n",
      "Loss4:0.1987\n"
     ]
    },
    {
     "name": "stderr",
     "output_type": "stream",
     "text": [
      "1101it [4:06:09, 13.42s/it]"
     ]
    },
    {
     "name": "stdout",
     "output_type": "stream",
     "text": [
      "Step [1100/2848] | Loss: 8.2908\n",
      "Loss1:5.4567\n",
      "Loss2:5.4334\n",
      "Loss3:5.3048\n",
      "Loss4:0.1933\n"
     ]
    },
    {
     "name": "stderr",
     "output_type": "stream",
     "text": [
      "1201it [4:28:30, 13.40s/it]"
     ]
    },
    {
     "name": "stdout",
     "output_type": "stream",
     "text": [
      "Step [1200/2848] | Loss: 8.2492\n",
      "Loss1:5.4556\n",
      "Loss2:5.4423\n",
      "Loss3:5.3297\n",
      "Loss4:0.1354\n"
     ]
    },
    {
     "name": "stderr",
     "output_type": "stream",
     "text": [
      "1301it [4:50:51, 13.45s/it]"
     ]
    },
    {
     "name": "stdout",
     "output_type": "stream",
     "text": [
      "Step [1300/2848] | Loss: 8.1124\n",
      "Loss1:5.3251\n",
      "Loss2:5.3218\n",
      "Loss3:5.2115\n",
      "Loss4:0.1832\n"
     ]
    },
    {
     "name": "stderr",
     "output_type": "stream",
     "text": [
      "1401it [5:13:13, 13.51s/it]"
     ]
    },
    {
     "name": "stdout",
     "output_type": "stream",
     "text": [
      "Step [1400/2848] | Loss: 8.0220\n",
      "Loss1:5.2524\n",
      "Loss2:5.2198\n",
      "Loss3:5.2049\n",
      "Loss4:0.1834\n"
     ]
    },
    {
     "name": "stderr",
     "output_type": "stream",
     "text": [
      "1501it [5:35:35, 13.42s/it]"
     ]
    },
    {
     "name": "stdout",
     "output_type": "stream",
     "text": [
      "Step [1500/2848] | Loss: 8.1824\n",
      "Loss1:5.4369\n",
      "Loss2:5.3628\n",
      "Loss3:5.3017\n",
      "Loss4:0.1317\n"
     ]
    },
    {
     "name": "stderr",
     "output_type": "stream",
     "text": [
      "1592it [5:55:54, 13.40s/it]"
     ]
    }
   ],
   "source": [
    "'''Train ImageNet with PyTorch.'''\n",
    "import os\n",
    "import time\n",
    "\n",
    "import torch\n",
    "import torch.nn as nn\n",
    "import torch.optim as optim\n",
    "import torchvision\n",
    "import torchvision.transforms as transforms\n",
    "import torchvision.models as models\n",
    "from tqdm import tqdm\n",
    "from ViT import ViT\n",
    "import torch.backends.cudnn as cudnn\n",
    "\n",
    "from torchvision.models import vit_b_16, ViT_B_16_Weights\n",
    "\n",
    "#os.environ['CUDA_VISIBLE_DEVICES'] = '1'\n",
    "cudnn.benchmark = True\n",
    "\n",
    "# if torch.cuda.is_available():\n",
    "#     device_ids = [0]\n",
    "#     for device_id in device_ids:\n",
    "#         torch.cuda.set_device(device_id)\n",
    "# else:\n",
    "#     device = 'cpu'\n",
    "\n",
    "device0 = 'cuda:0' if torch.cuda.is_available() else 'cpu'\n",
    "#print(device0)\n",
    "start_epoch = 0  # start from epoch 0 or last checkpoint epoch\n",
    "\n",
    "temp_dir = 'temp'\n",
    "\n",
    "# save temp pth\n",
    "if not os.path.exists(temp_dir):\n",
    "    os.makedirs(temp_dir)\n",
    "    \n",
    "train_directory = './imagenet/train'\n",
    "test_directory = './imagenet/val'\n",
    "\n",
    "transform_train = transforms.Compose([\n",
    "    transforms.Resize((256, 256)),\n",
    "    transforms.CenterCrop(224),\n",
    "    transforms.RandomHorizontalFlip(),\n",
    "    transforms.ToTensor(),\n",
    "    transforms.Normalize((0.4914, 0.4822, 0.4465), (0.2023, 0.1994, 0.2010)),\n",
    "])\n",
    "\n",
    "transform_test = transforms.Compose([\n",
    "    transforms.Resize((256, 256)),\n",
    "    transforms.CenterCrop(224),\n",
    "    transforms.ToTensor(),\n",
    "    transforms.Normalize((0.4914, 0.4822, 0.4465), (0.2023, 0.1994, 0.2010)),\n",
    "])\n",
    "\n",
    "trainset = torchvision.datasets.ImageFolder(root=train_directory, transform=transform_train)\n",
    "testset = torchvision.datasets.ImageFolder(root=test_directory, transform=transform_test)\n",
    "\n",
    "trainloader = torch.utils.data.DataLoader(\n",
    "    trainset, batch_size=450, shuffle=True, num_workers = 2, pin_memory=True)\n",
    "#trainloader = tqdm(trainloader, total=len(trainloader))\n",
    "\n",
    "testloader = torch.utils.data.DataLoader(\n",
    "    testset, batch_size=450, shuffle=False,num_workers = 2, pin_memory=True)\n",
    "\n",
    "# trainloader = tqdm(testloader, total=len(testloader))\n",
    "\n",
    "def load_state_dict_ignore_mismatch(model, state_dict):\n",
    "    model_dict = model.state_dict()\n",
    "   \n",
    "    matched_state_dict = {k: v for k, v in state_dict.items() if k in model_dict and v.shape == model_dict[k].shape}\n",
    "    \n",
    "    model_dict.update(matched_state_dict)\n",
    "\n",
    "    model.load_state_dict(model_dict)\n",
    "\n",
    "    return len(matched_state_dict), len(model_dict)\n",
    "\n",
    "\n",
    "\n",
    "# load resnet101\n",
    "net = ViT(num_classes=1000, image_size=224, patch_size=16, hidden_dim=768, num_heads=12, num_layers=12, mlp_dim=3072)\n",
    "#net = ViT(num_classes=1000, img_size=224, patch_size=16, d_model=768, n_head=12, n_layers=12, d_mlp=3072)\n",
    "import hashlib\n",
    "\n",
    "def get_model_hash(model):\n",
    "    md5 = hashlib.md5()\n",
    "    for param in model.parameters():\n",
    "        md5.update(param.data.cpu().numpy().tobytes())\n",
    "    return md5.hexdigest()\n",
    "\n",
    "# 加载预训练权重前的哈希值\n",
    "initial_hash = get_model_hash(net)\n",
    "print(f\"Initial model hash: {initial_hash}\")\n",
    "\n",
    "pre = vit_b_16(weights = ViT_B_16_Weights.IMAGENET1K_SWAG_E2E_V1)\n",
    "pretrained_state_dict = pre.state_dict()\n",
    "#net.load_state_dict(state)\n",
    "#pretrained_state_dict = torch.load('pretrained_image1k.pth')\n",
    "#net.load_state_dict(pretrained_state_dict)\n",
    "matched_params, total_params = load_state_dict_ignore_mismatch(net, pretrained_state_dict)\n",
    "print(f\"Loaded {matched_params} out of {total_params} parameters\")\n",
    "\n",
    "loaded_hash = get_model_hash(net)\n",
    "print(f\"Loaded model hash: {loaded_hash}\")\n",
    "\n",
    "# state_dict = torch.load('temp/vit_epoch1.pth')\n",
    "# new_state_dict = {}\n",
    "# for k, v in state_dict.items():\n",
    "#     if k.startswith(\"module.\"):\n",
    "#         new_key = k[len(\"module.\"):]\n",
    "#     else:\n",
    "#         new_key = k\n",
    "#     new_state_dict[new_key] = v\n",
    "#net = nn.DataParallel(net, device_ids=device_ids)\n",
    "if torch.cuda.device_count() > 1:\n",
    "    #print(torch.cuda.device_count())\n",
    "    net = nn.DataParallel(net)\n",
    "    \n",
    "net.to(device0)\n",
    "\n",
    "criterion_1 = nn.CrossEntropyLoss().to(device0)\n",
    "\n",
    "# define optimizer and loss function\n",
    "optimizer_1 = optim.SGD([\n",
    "    {'params': net.module.encoder.layers[:3].parameters()},\n",
    "], lr=0.001, weight_decay=5e-4,momentum=0.9)  # update first layer\n",
    "\n",
    "optimizer_2 = optim.SGD([\n",
    "    {'params': net.module.encoder.layers[3:6].parameters()},\n",
    "], lr=0.001, weight_decay=5e-4,momentum=0.9)  # update second layer\n",
    "\n",
    "optimizer_3 = optim.SGD([\n",
    "     {'params': net.module.encoder.layers[6:9].parameters()},\n",
    "], lr=0.001, weight_decay=5e-4,momentum=0.9)  # update third layer\n",
    "\n",
    "optimizer_4 = optim.SGD([\n",
    "    {'params': net.module.encoder.layers[9:].parameters()},\n",
    "    {'params': net.module.heads.parameters()},\n",
    "], lr=0.001,weight_decay=5e-4,momentum=0.9)  # update fourth layer\n",
    "\n",
    "# for param in net.module.mlp_head2.parameters():\n",
    "#     param.requires_grad = False\n",
    "\n",
    "# for param in net.module.mlp_head3.parameters():\n",
    "#     param.requires_grad = False\n",
    "\n",
    "# for param in net.module.mlp_head4.parameters():\n",
    "#     param.requires_grad = False\n",
    "    \n",
    "# optimizer_1 = optim.SGD([\n",
    "#     {'params': net.module.transformer_blocks[:3].parameters()},\n",
    "#     {'params': net.module.mlp_head1.parameters()}\n",
    "# ], lr=0.001, momentum=0.9, weight_decay=5e-4)\n",
    "\n",
    "# optimizer_2 = optim.SGD([\n",
    "#     {'params': net.module.transformer_blocks[3:6].parameters()},\n",
    "#      {'params': net.module.mlp_head2.parameters()}\n",
    "# ], lr=0.001, momentum=0.9, weight_decay=5e-4)\n",
    "\n",
    "# optimizer_3 = optim.SGD([\n",
    "#     {'params': net.module.transformer_blocks[6:9].parameters()},\n",
    "#      {'params': net.module.mlp_head3.parameters()}\n",
    "# ], lr=0.001, momentum=0.9, weight_decay=5e-4)\n",
    "\n",
    "# optimizer_4 = optim.SGD([\n",
    "#     {'params': net.module.transformer_blocks[9:].parameters()},\n",
    "#      {'params': net.module.mlp_head4.parameters()}\n",
    "# ], lr=0.001, momentum=0.9, weight_decay=5e-4)\n",
    "\n",
    "scheduler_1 = torch.optim.lr_scheduler.CosineAnnealingLR(optimizer_1, T_max=200)\n",
    "scheduler_2 = torch.optim.lr_scheduler.CosineAnnealingLR(optimizer_2, T_max=200)\n",
    "scheduler_3 = torch.optim.lr_scheduler.CosineAnnealingLR(optimizer_3, T_max=200)\n",
    "scheduler_4 = torch.optim.lr_scheduler.CosineAnnealingLR(optimizer_4, T_max=200)\n",
    "\n",
    "\n",
    "\n",
    "train_losses = []\n",
    "test_losses = []\n",
    "\n",
    "log_file = open(\"vit_training_log.txt\", \"w\")\n",
    "\n",
    "# Training\n",
    "def train(epoch):\n",
    "    print('\\nEpoch: %d' % epoch)\n",
    "    net.train()\n",
    "    train_loss = 0\n",
    "    correct = 0\n",
    "    total = 0\n",
    "    for i, (inputs, targets) in tqdm(enumerate(trainloader)):\n",
    "        inputs, targets = inputs.to(device0), targets.to(device0)\n",
    "        \n",
    "        if targets.max() >= 1000 or targets.min() < 0:\n",
    "            raise ValueError(f\"Targets out of range: min {targets.min()}, max {targets.max()}\")\n",
    "\n",
    "        optimizer_1.zero_grad()\n",
    "        optimizer_2.zero_grad()\n",
    "        optimizer_3.zero_grad()\n",
    "        optimizer_4.zero_grad()\n",
    "\n",
    "        outputs, extra_1, extra_2, extra_3 = net(inputs)\n",
    "        loss_1 = criterion_1(extra_1, targets)\n",
    "        #loss_1.backward(retain_graph=True)\n",
    "        \n",
    "        loss_2 = criterion_1(extra_2, targets)\n",
    "        #loss_2.backward(retain_graph=True)\n",
    "        \n",
    "        loss_3 = criterion_1(extra_3, targets)\n",
    "        #loss_3.backward(retain_graph=True)\n",
    "        \n",
    "        loss_4 = criterion_1(outputs, targets)\n",
    "        #loss_4.backward(retain_graph=True)\n",
    "        \n",
    "        #loss = 0.5*loss_1 + 0.5*loss_2 + 0.5*loss_3 + loss_4\n",
    "        loss = 0.5 * (loss_1 + loss_2 + loss_3) + loss_4\n",
    "        loss.backward()\n",
    "\n",
    "        optimizer_1.step()\n",
    "        optimizer_2.step()\n",
    "        optimizer_3.step()\n",
    "        optimizer_4.step()\n",
    "\n",
    "        train_loss += loss_4.item()\n",
    "        _, predicted = outputs.max(1)\n",
    "        total += targets.size(0)\n",
    "        correct += predicted.eq(targets).sum().item()\n",
    "        \n",
    "        if i % 100 == 0:\n",
    "            print(f'Step [{i}/{len(trainloader)}] | Loss: {loss.item():.4f}')\n",
    "            log_file.write(f'Step [{i}/{len(trainloader)}] | Loss: {loss.item():.4f}\\n')\n",
    "            log_file.flush()\n",
    "            print(f'Loss1:{loss_1.item():.4f}')\n",
    "            print(f'Loss2:{loss_2.item():.4f}')\n",
    "            print(f'Loss3:{loss_3.item():.4f}')\n",
    "            print(f'Loss4:{loss_4.item():.4f}')\n",
    "            log_file.write(f'loss1:{loss_1.item():.4f},loss2:{loss_2.item():.4f},loss3:{loss_3.item():.4f},loss4:{loss_4.item():.4f}\\n ')\n",
    "            log_file.flush()\n",
    "    print('Train Loss: %.3f | Acc: %.3f%% (%d/%d)'\n",
    "          % (train_loss / len(trainloader), 100. * correct / total, correct, total))\n",
    "    log_file.write(\n",
    "        f\"Epoch {epoch}: Train Loss = {train_loss / len(trainloader):.3f}, Accuracy = {100. * correct / total:.3f}%\")\n",
    "    log_file.flush()\n",
    "    train_losses.append(train_loss / len(trainloader))\n",
    "\n",
    "def test(epoch):\n",
    "    net.eval()\n",
    "    test_loss = 0\n",
    "    correct_top1 = 0\n",
    "    correct_top5 = 0\n",
    "    total = 0\n",
    "\n",
    "    with torch.no_grad():\n",
    "        for inputs, targets in tqdm(testloader):\n",
    "            inputs, targets = inputs.to(device0), targets.to(device0)\n",
    "            outputs, _, _, _ = net(inputs)\n",
    "            loss = criterion_1(outputs, targets)\n",
    "\n",
    "            test_loss += loss.item()\n",
    "            _, predicted = outputs.topk(5, 1)\n",
    "\n",
    "            total += targets.size(0)\n",
    "            correct_top1 += predicted[:, 0].eq(targets).sum().item()\n",
    "\n",
    "            for i in range(targets.size(0)):\n",
    "                if targets[i] in predicted[i]:\n",
    "                    correct_top5 += 1\n",
    "\n",
    "    top1_accuracy = 100. * correct_top1 / total\n",
    "    top5_accuracy = 100. * correct_top5 / total\n",
    "\n",
    "    print('Test Loss: %.3f | Top-1 Acc: %.3f%% | Top-5 Acc: %.3f%% (%d/%d)'\n",
    "          % (test_loss / len(testloader), top1_accuracy, top5_accuracy, correct_top1, total))\n",
    "    log_file.write(\n",
    "        f\" Test Loss = {test_loss / len(testloader):.3f}, Top-1 Accuracy = {top1_accuracy:.3f}%, Top-5 Accuracy = {top5_accuracy:.3f}%\\n\")\n",
    "    log_file.flush()\n",
    "    test_losses.append(test_loss / len(testloader))\n",
    "\n",
    "for epoch in range(start_epoch, start_epoch + 100):\n",
    "    train(epoch)\n",
    "    test(epoch)\n",
    "  \n",
    "    check_path = os.path.join('temp', f'vit_epoch{epoch + 1}.pth')\n",
    "    torch.save(net.state_dict(), check_path)\n",
    "    \n",
    "    scheduler_1.step()\n",
    "    scheduler_2.step()\n",
    "    scheduler_3.step()\n",
    "    scheduler_4.step()\n",
    "\n",
    "log_file.close()\n",
    "# Save the trained weights\n",
    "save_path = 'vit_4out_imagenet.pth'\n",
    "torch.save(net.state_dict(), save_path)\n",
    "print(\"Trained weights saved to:\", save_path)"
   ]
  },
  {
   "cell_type": "code",
   "execution_count": null,
   "id": "ad4a2d16-df2d-41e6-a2c1-ef57a2e8ac52",
   "metadata": {},
   "outputs": [],
   "source": []
  }
 ],
 "metadata": {
  "kernelspec": {
   "display_name": "Python 3 (ipykernel)",
   "language": "python",
   "name": "python3"
  },
  "language_info": {
   "codemirror_mode": {
    "name": "ipython",
    "version": 3
   },
   "file_extension": ".py",
   "mimetype": "text/x-python",
   "name": "python",
   "nbconvert_exporter": "python",
   "pygments_lexer": "ipython3",
   "version": "3.10.13"
  }
 },
 "nbformat": 4,
 "nbformat_minor": 5
}
